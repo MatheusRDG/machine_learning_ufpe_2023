{
 "cells": [
  {
   "cell_type": "code",
   "execution_count": 45,
   "id": "7bd83300",
   "metadata": {},
   "outputs": [],
   "source": [
    "import skfuzzy\n",
    "import numpy as np\n",
    "from utils.datastore import *"
   ]
  },
  {
   "cell_type": "code",
   "execution_count": 44,
   "id": "c5b44350",
   "metadata": {},
   "outputs": [],
   "source": [
    "ds = DataStore()\n",
    "D = ds.build_datasets(labeled=False)"
   ]
  },
  {
   "cell_type": "code",
   "execution_count": 46,
   "id": "5a202af8",
   "metadata": {},
   "outputs": [],
   "source": [
    "# Hiperparameters:\n",
    "metric = 'cityblock'\n",
    "ncenters = 7\n",
    "niter = 50\n",
    "\n",
    "best_results = []\n",
    "\n",
    "for Di in D:\n",
    "    results = []\n",
    "    J = np.nan\n",
    "    best_result_index = 0\n",
    "    for i in range(niter):\n",
    "        results.append(\n",
    "            skfuzzy.cluster.cmeans(Di.transpose(), ncenters, 2, error=0.005, metric=metric, maxiter=1000, init=None)\n",
    "        )\n",
    "        jm = results[i][4][-1]\n",
    "        if np.isnan(J):\n",
    "            J = jm\n",
    "        else:\n",
    "            if jm < J:\n",
    "                best_result_index = i\n",
    "    best_results.append(results[best_result_index])\n",
    "\n",
    "        "
   ]
  },
  {
   "cell_type": "code",
   "execution_count": null,
   "id": "8ef982c7",
   "metadata": {},
   "outputs": [],
   "source": []
  }
 ],
 "metadata": {
  "kernelspec": {
   "display_name": "Python 3 (ipykernel)",
   "language": "python",
   "name": "python3"
  },
  "language_info": {
   "codemirror_mode": {
    "name": "ipython",
    "version": 3
   },
   "file_extension": ".py",
   "mimetype": "text/x-python",
   "name": "python",
   "nbconvert_exporter": "python",
   "pygments_lexer": "ipython3",
   "version": "3.10.6"
  }
 },
 "nbformat": 4,
 "nbformat_minor": 5
}
