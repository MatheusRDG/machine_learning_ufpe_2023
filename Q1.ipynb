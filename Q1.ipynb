{
 "cells": [
  {
   "cell_type": "code",
   "execution_count": 1,
   "id": "84b2f23b",
   "metadata": {},
   "outputs": [],
   "source": [
    "import skfuzzy\n",
    "import numpy as np\n",
    "from utils.datastore import *"
   ]
  },
  {
   "cell_type": "code",
   "execution_count": 2,
   "id": "553e6cc4",
   "metadata": {},
   "outputs": [],
   "source": [
    "ds = DataStore()\n",
    "D = ds.build_datasets(labeled=False)"
   ]
  },
  {
   "cell_type": "code",
   "execution_count": null,
   "id": "a0e7f351",
   "metadata": {},
   "outputs": [],
   "source": [
    "# Hyperparameters:\n",
    "metric = 'cityblock'\n",
    "ncenters = 7\n",
    "error = 1e-06\n",
    "niter = 50\n",
    "fuzzy_param = [1.1,1.6,2.0]\n",
    "\n",
    "best_results = []\n",
    "\n",
    "for Di in D:\n",
    "    results = []\n",
    "    J = np.nan\n",
    "    best_result_index = 0\n",
    "    for i in range(niter):\n",
    "        results.append(\n",
    "            skfuzzy.cluster.cmeans(Di.transpose(), ncenters, 2, error=error, metric=metric, \n",
    "                    maxiter=1000, init=None)\n",
    "        )\n",
    "        jm = results[i][4][-1]\n",
    "        if np.isnan(J):\n",
    "            J = jm\n",
    "        else:\n",
    "            if jm < J:\n",
    "                best_result_index = i\n",
    "    best_results.append(results[best_result_index])\n",
    "\n",
    "        "
   ]
  },
  {
   "cell_type": "code",
   "execution_count": 9,
   "id": "4de9f215",
   "metadata": {},
   "outputs": [
    {
     "name": "stdout",
     "output_type": "stream",
     "text": [
      "Partition Entropy D0: 0.23302030014392214\n",
      "Modified Partition Coefficient D0: 0.8859173509763976\n",
      "Partition Entropy D1: 0.599264319663365\n",
      "Modified Partition Coefficient D1: 0.75332186560258\n",
      "Partition Entropy D2: 0.7271844668329119\n",
      "Modified Partition Coefficient D2: 0.7008406561155085\n"
     ]
    }
   ],
   "source": [
    "# Modified Partition Coefficient\n",
    "def modified_partition_coefficient(ncenters, partition_coefficient):\n",
    "    return 1 - (ncenters/(ncenters+1))*(1-partition_coefficient)\n",
    "\n",
    "# Partition Entropy\n",
    "def partition_entropy(U):\n",
    "    C, N = U.shape\n",
    "    s = 0\n",
    "    for i in range(C):\n",
    "        for j in range(N):\n",
    "            s += U[i][j] * np.log(U[i][j])\n",
    "    return -(1/N)*s\n",
    "    \n",
    "for i in range(3):\n",
    "    print(\"Partition Entropy D{0}: {1}\".format(i,partition_entropy(best_results[i][1])))\n",
    "    print(\"Modified Partition Coefficient D{0}: {1}\".format(i,modified_partition_coefficient(7,best_results[i][-1])))\n",
    "    \n",
    "\n",
    "    "
   ]
  }
 ],
 "metadata": {
  "kernelspec": {
   "display_name": "Python 3 (ipykernel)",
   "language": "python",
   "name": "python3"
  },
  "language_info": {
   "codemirror_mode": {
    "name": "ipython",
    "version": 3
   },
   "file_extension": ".py",
   "mimetype": "text/x-python",
   "name": "python",
   "nbconvert_exporter": "python",
   "pygments_lexer": "ipython3",
   "version": "3.10.6"
  }
 },
 "nbformat": 4,
 "nbformat_minor": 5
}
