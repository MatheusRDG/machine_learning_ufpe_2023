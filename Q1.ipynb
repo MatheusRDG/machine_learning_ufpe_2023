{
 "cells": [
  {
   "cell_type": "code",
   "execution_count": 14,
   "id": "84b2f23b",
   "metadata": {},
   "outputs": [],
   "source": [
    "import skfuzzy\n",
    "import numpy as np\n",
    "import matplotlib.pyplot as plt\n",
    "from utils.datastore import *"
   ]
  },
  {
   "cell_type": "code",
   "execution_count": 15,
   "id": "553e6cc4",
   "metadata": {},
   "outputs": [],
   "source": [
    "ds = DataStore()\n",
    "D = ds.build_datasets(labeled=False)"
   ]
  },
  {
   "cell_type": "code",
   "execution_count": 69,
   "id": "a0e7f351",
   "metadata": {},
   "outputs": [],
   "source": [
    "# Hyperparameters:\n",
    "metric = 'cityblock'\n",
    "c = 7\n",
    "epsilon = 1e-06\n",
    "T = 100\n",
    "m_list = [1.1,1.6,2.0]\n",
    "niter = 50\n",
    "\n",
    "all_results = []\n",
    "\n",
    "for Di in D:\n",
    "    results = []\n",
    "    for i in range(niter):\n",
    "        for m in m_list:\n",
    "            results.append(\n",
    "                skfuzzy.cmeans(Di.transpose(), c, m, error=epsilon, metric=metric, \n",
    "                        maxiter=T, init=None)\n",
    "            )\n",
    "    all_results.append(results)        "
   ]
  },
  {
   "cell_type": "code",
   "execution_count": 87,
   "id": "711ff312",
   "metadata": {},
   "outputs": [],
   "source": [
    "# Sort results by objective function\n",
    "for results in all_results:\n",
    "    results.sort(key=lambda r: r[4][-1])\n",
    "\n",
    "# Get the best\n",
    "best_results = [ results[0] for results in all_results ]"
   ]
  },
  {
   "cell_type": "code",
   "execution_count": 88,
   "id": "4de9f215",
   "metadata": {},
   "outputs": [
    {
     "name": "stdout",
     "output_type": "stream",
     "text": [
      "Partition Entropy D0: 0.23285033666164226\n",
      "Modified Partition Coefficient D0: 0.8860205697375879\n",
      "\n",
      "Partition Entropy D1: 0.5992513522741237\n",
      "Modified Partition Coefficient D1: 0.7533267885183923\n",
      "\n",
      "Partition Entropy D2: 0.6925175063317678\n",
      "Modified Partition Coefficient D2: 0.7128704579554344\n",
      "\n"
     ]
    }
   ],
   "source": [
    "# Modified Partition Coefficient\n",
    "def modified_partition_coefficient(ncenters, partition_coefficient):\n",
    "    return 1 - (ncenters/(ncenters+1))*(1-partition_coefficient)\n",
    "\n",
    "# Partition Entropy\n",
    "def partition_entropy(U):\n",
    "    C, N = U.shape\n",
    "    s = 0\n",
    "    for i in range(C):\n",
    "        for j in range(N):\n",
    "            s += U[i][j] * np.log(U[i][j])\n",
    "    return -(1/N)*s\n",
    "    \n",
    "for i in range(3):\n",
    "    print(\"Partition Entropy D{0}: {1}\".format(i,partition_entropy(best_results[i][1])))\n",
    "    print(\"Modified Partition Coefficient D{0}: {1}\\n\".format(i,modified_partition_coefficient(7,best_results[i][-1])))\n",
    "    "
   ]
  },
  {
   "cell_type": "code",
   "execution_count": 125,
   "id": "fa8ee859",
   "metadata": {},
   "outputs": [
    {
     "name": "stdout",
     "output_type": "stream",
     "text": [
      "Crisp partition D0: [ 205    8 2069    3    5    4   14]\n",
      "Crisp partition D1: [311 312 265 175 647 443 155]\n",
      "Crisp partition D2: [451 299 329   7 258 655 309]\n"
     ]
    }
   ],
   "source": [
    "# Crisp partitions\n",
    "\n",
    "def build_crisp_partition(U):\n",
    "    C = []\n",
    "    M,N = U.shape\n",
    "    for j in range(N):\n",
    "        cut_value = np.sort(U[:,j])[-2]\n",
    "        C.append(skfuzzy.lambda_cut(U[:,j],cut_value))\n",
    "    return C\n",
    "\n",
    "for idx, best_result in enumerate(best_results):\n",
    "    C = build_crisp_partition(best_result[1])\n",
    "    print(\"Crisp partition D{0}: {1}\".format(idx,np.sum(C,axis=0)))"
   ]
  },
  {
   "cell_type": "code",
   "execution_count": null,
   "id": "d169e831",
   "metadata": {},
   "outputs": [],
   "source": [
    "# Adjusted Rand Index"
   ]
  }
 ],
 "metadata": {
  "kernelspec": {
   "display_name": "Python 3 (ipykernel)",
   "language": "python",
   "name": "python3"
  },
  "language_info": {
   "codemirror_mode": {
    "name": "ipython",
    "version": 3
   },
   "file_extension": ".py",
   "mimetype": "text/x-python",
   "name": "python",
   "nbconvert_exporter": "python",
   "pygments_lexer": "ipython3",
   "version": "3.10.6"
  }
 },
 "nbformat": 4,
 "nbformat_minor": 5
}
