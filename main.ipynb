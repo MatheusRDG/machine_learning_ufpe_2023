{
 "cells": [
  {
   "cell_type": "code",
   "execution_count": 1,
   "metadata": {},
   "outputs": [],
   "source": [
    "from utils.datastore import *"
   ]
  },
  {
   "cell_type": "code",
   "execution_count": 2,
   "metadata": {},
   "outputs": [
    {
     "name": "stdout",
     "output_type": "stream",
     "text": [
      "           REGION-CENTROID-COL  REGION-CENTROID-ROW  REGION-PIXEL-COUNT  \\\n",
      "BRICKFACE                140.0                125.0                   9   \n",
      "BRICKFACE                188.0                133.0                   9   \n",
      "BRICKFACE                105.0                139.0                   9   \n",
      "BRICKFACE                 34.0                137.0                   9   \n",
      "BRICKFACE                 39.0                111.0                   9   \n",
      "...                        ...                  ...                 ...   \n",
      "CEMENT                   233.0                159.0                   9   \n",
      "CEMENT                    32.0                158.0                   9   \n",
      "CEMENT                     8.0                162.0                   9   \n",
      "CEMENT                   128.0                161.0                   9   \n",
      "CEMENT                   150.0                158.0                   9   \n",
      "\n",
      "           SHORT-LINE-DENSITY-5  SHORT-LINE-DENSITY-2  VEDGE-MEAN  VEDGE-SD  \\\n",
      "BRICKFACE              0.000000                   0.0    0.277778  0.062963   \n",
      "BRICKFACE              0.000000                   0.0    0.333333  0.266667   \n",
      "BRICKFACE              0.000000                   0.0    0.277778  0.107407   \n",
      "BRICKFACE              0.000000                   0.0    0.500000  0.166667   \n",
      "BRICKFACE              0.000000                   0.0    0.722222  0.374074   \n",
      "...                         ...                   ...         ...       ...   \n",
      "CEMENT                 0.000000                   0.0    2.500000  0.522222   \n",
      "CEMENT                 0.000000                   0.0    0.944445  0.862963   \n",
      "CEMENT                 0.111111                   0.0    1.611111  2.062962   \n",
      "CEMENT                 0.000000                   0.0    0.555555  0.251852   \n",
      "CEMENT                 0.000000                   0.0    2.166667  1.633334   \n",
      "\n",
      "           HEDGE-MEAN  HEDGE-SD  INTENSITY-MEAN  RAWRED-MEAN  RAWBLUE-MEAN  \\\n",
      "BRICKFACE    0.666667  0.311111        6.185185     7.333334      7.666666   \n",
      "BRICKFACE    0.500000  0.077778        6.666666     8.333334      7.777778   \n",
      "BRICKFACE    0.833333  0.522222        6.111111     7.555555      7.222222   \n",
      "BRICKFACE    1.111111  0.474074        5.851852     7.777778      6.444445   \n",
      "BRICKFACE    0.888889  0.429629        6.037037     7.000000      7.666666   \n",
      "...               ...       ...             ...          ...           ...   \n",
      "CEMENT       1.277778  1.574074        6.629630     5.111111     10.111111   \n",
      "CEMENT       0.833333  0.611111        7.962963     6.333334     11.888889   \n",
      "CEMENT       0.333333  0.133333        8.370370     6.666666     12.000000   \n",
      "CEMENT       0.777778  0.162963        7.148148     5.555555     10.888889   \n",
      "CEMENT       1.388889  0.418518        8.444445     7.000000     12.222222   \n",
      "\n",
      "           RAWGREEN-MEAN  EXRED-MEAN  EXBLUE-MEAN  EXGREEN-MEAN  VALUE-MEAN  \\\n",
      "BRICKFACE       3.555556    3.444444     4.444445     -7.888889    7.777778   \n",
      "BRICKFACE       3.888889    5.000000     3.333333     -8.333333    8.444445   \n",
      "BRICKFACE       3.555556    4.333334     3.333333     -7.666666    7.555555   \n",
      "BRICKFACE       3.333333    5.777778     1.777778     -7.555555    7.777778   \n",
      "BRICKFACE       3.444444    2.888889     4.888889     -7.777778    7.888889   \n",
      "...                  ...         ...          ...           ...         ...   \n",
      "CEMENT          4.666667   -4.555555    10.444445     -5.888889   10.111111   \n",
      "CEMENT          5.666666   -4.888889    11.777778     -6.888889   11.888889   \n",
      "CEMENT          6.444445   -5.111111    10.888889     -5.777778   12.000000   \n",
      "CEMENT          5.000000   -4.777778    11.222222     -6.444445   10.888889   \n",
      "CEMENT          6.111111   -4.333334    11.333333     -7.000000   12.222222   \n",
      "\n",
      "           SATURATION-MEAN  HUE-MEAN  \n",
      "BRICKFACE         0.545635 -1.121818  \n",
      "BRICKFACE         0.538580 -0.924817  \n",
      "BRICKFACE         0.532628 -0.965946  \n",
      "BRICKFACE         0.573633 -0.744272  \n",
      "BRICKFACE         0.562919 -1.175773  \n",
      "...                    ...       ...  \n",
      "CEMENT            0.541667 -1.999443  \n",
      "CEMENT            0.520578 -1.982834  \n",
      "CEMENT            0.484805 -2.044946  \n",
      "CEMENT            0.540918 -1.996307  \n",
      "CEMENT            0.503086 -1.943449  \n",
      "\n",
      "[2308 rows x 19 columns]\n"
     ]
    }
   ],
   "source": [
    "ds = DataStore()\n",
    "data = ds.data\n",
    "print(data)"
   ]
  }
 ],
 "metadata": {
  "kernelspec": {
   "display_name": "Python 3 (ipykernel)",
   "language": "python",
   "name": "python3"
  },
  "language_info": {
   "codemirror_mode": {
    "name": "ipython",
    "version": 3
   },
   "file_extension": ".py",
   "mimetype": "text/x-python",
   "name": "python",
   "nbconvert_exporter": "python",
   "pygments_lexer": "ipython3",
   "version": "3.10.6"
  }
 },
 "nbformat": 4,
 "nbformat_minor": 2
}
