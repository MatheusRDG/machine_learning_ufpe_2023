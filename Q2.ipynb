{
 "cells": [
  {
   "cell_type": "code",
   "execution_count": 2,
   "metadata": {},
   "outputs": [],
   "source": [
    "%load_ext lab_black\n",
    "%load_ext autoreload\n",
    "%autoreload 2"
   ]
  },
  {
   "cell_type": "code",
   "execution_count": 3,
   "metadata": {},
   "outputs": [],
   "source": [
    "from utils.datastore import *\n",
    "from utils.utils import set_seed\n",
    "import pandas as pd\n",
    "import numpy as np\n",
    "\n",
    "set_seed()  # for code reproducibility"
   ]
  },
  {
   "cell_type": "code",
   "execution_count": 4,
   "metadata": {},
   "outputs": [],
   "source": [
    "ds = DataStore()\n",
    "D1, D2, D3 = ds.build_datasets()\n",
    "classes = D3[\"label\"].unique().tolist()\n",
    "n_label = len(classes)"
   ]
  },
  {
   "attachments": {},
   "cell_type": "markdown",
   "metadata": {},
   "source": [
    "### Data exploration"
   ]
  },
  {
   "cell_type": "code",
   "execution_count": 5,
   "metadata": {},
   "outputs": [],
   "source": [
    "from IPython.display import display, Markdown\n",
    "\n",
    "\n",
    "def display_missing_values(df):\n",
    "    \"\"\"\n",
    "    This function calculates the percentage of missing values in each column of a\n",
    "    Pandas DataFrame and displays the results in descending order.\n",
    "\n",
    "    :return: None\n",
    "    \"\"\"\n",
    "\n",
    "    missing_values = df.isnull().sum() / len(df) * 100\n",
    "    missing_values = missing_values.sort_values(ascending=False)\n",
    "    missing_values.rename(\"% Missing Values\", inplace=True)\n",
    "    display(Markdown(missing_values.to_markdown()))\n",
    "    del missing_values\n",
    "\n",
    "\n",
    "def unique_values_table(df, uv=3):\n",
    "    \"\"\"\n",
    "    Print a markdown table\n",
    "    with the col, the number of unique values and the unique values\n",
    "    list if there are less than 3 unique values (uv) by defalt.\n",
    "\n",
    "    :param uv: int\n",
    "    :return: None\n",
    "    \"\"\"\n",
    "    from IPython.display import display, Markdown\n",
    "\n",
    "    md_table_str = \"|Column Name|Unique Values||\\n|---|---|---|\\n\"\n",
    "    for col_name, unique_values in df.nunique().items():\n",
    "        if unique_values > uv:\n",
    "            md_table_str += \"|{}|{}|\\n\".format(col_name, unique_values)\n",
    "        else:\n",
    "            md_unique_str = \" \".join(\n",
    "                [\n",
    "                    f\"{name}: {value*100:.2f}\\%\"\n",
    "                    for name, value in df[col_name].value_counts(normalize=True).items()\n",
    "                ]\n",
    "            )\n",
    "\n",
    "            md_table_str += \"|{}|{}|{}\\n\".format(col_name, unique_values, md_unique_str)\n",
    "    display(Markdown(md_table_str))"
   ]
  },
  {
   "cell_type": "code",
   "execution_count": 6,
   "metadata": {},
   "outputs": [
    {
     "name": "stdout",
     "output_type": "stream",
     "text": [
      "Dataset 1\n"
     ]
    },
    {
     "data": {
      "text/markdown": [
       "|                      |   % Missing Values |\n",
       "|:---------------------|-------------------:|\n",
       "| SHORT-LINE-DENSITY-5 |                  0 |\n",
       "| SHORT-LINE-DENSITY-2 |                  0 |\n",
       "| VEDGE-MEAN           |                  0 |\n",
       "| VEDGE-SD             |                  0 |\n",
       "| HEDGE-MEAN           |                  0 |\n",
       "| label                |                  0 |"
      ],
      "text/plain": [
       "<IPython.core.display.Markdown object>"
      ]
     },
     "metadata": {},
     "output_type": "display_data"
    },
    {
     "name": "stdout",
     "output_type": "stream",
     "text": [
      "Dataset 2\n"
     ]
    },
    {
     "data": {
      "text/markdown": [
       "|                 |   % Missing Values |\n",
       "|:----------------|-------------------:|\n",
       "| INTENSITY-MEAN  |                  0 |\n",
       "| RAWRED-MEAN     |                  0 |\n",
       "| RAWBLUE-MEAN    |                  0 |\n",
       "| RAWGREEN-MEAN   |                  0 |\n",
       "| EXRED-MEAN      |                  0 |\n",
       "| EXBLUE-MEAN     |                  0 |\n",
       "| EXGREEN-MEAN    |                  0 |\n",
       "| VALUE-MEAN      |                  0 |\n",
       "| SATURATION-MEAN |                  0 |\n",
       "| label           |                  0 |"
      ],
      "text/plain": [
       "<IPython.core.display.Markdown object>"
      ]
     },
     "metadata": {},
     "output_type": "display_data"
    },
    {
     "name": "stdout",
     "output_type": "stream",
     "text": [
      "Dataset 3\n"
     ]
    },
    {
     "data": {
      "text/markdown": [
       "|                      |   % Missing Values |\n",
       "|:---------------------|-------------------:|\n",
       "| SHORT-LINE-DENSITY-5 |                  0 |\n",
       "| SHORT-LINE-DENSITY-2 |                  0 |\n",
       "| VEDGE-MEAN           |                  0 |\n",
       "| VEDGE-SD             |                  0 |\n",
       "| HEDGE-MEAN           |                  0 |\n",
       "| HEDGE-SD             |                  0 |\n",
       "| INTENSITY-MEAN       |                  0 |\n",
       "| RAWRED-MEAN          |                  0 |\n",
       "| RAWBLUE-MEAN         |                  0 |\n",
       "| RAWGREEN-MEAN        |                  0 |\n",
       "| EXRED-MEAN           |                  0 |\n",
       "| EXBLUE-MEAN          |                  0 |\n",
       "| EXGREEN-MEAN         |                  0 |\n",
       "| VALUE-MEAN           |                  0 |\n",
       "| SATURATION-MEAN      |                  0 |\n",
       "| label                |                  0 |"
      ],
      "text/plain": [
       "<IPython.core.display.Markdown object>"
      ]
     },
     "metadata": {},
     "output_type": "display_data"
    }
   ],
   "source": [
    "print(\"Dataset 1\")\n",
    "display_missing_values(D1)\n",
    "\n",
    "print(\"Dataset 2\")\n",
    "display_missing_values(D2)\n",
    "\n",
    "print(\"Dataset 3\")\n",
    "display_missing_values(D3)"
   ]
  },
  {
   "cell_type": "code",
   "execution_count": 7,
   "metadata": {},
   "outputs": [
    {
     "name": "stdout",
     "output_type": "stream",
     "text": [
      "Dataset 1\n"
     ]
    },
    {
     "data": {
      "text/markdown": [
       "|Column Name|Unique Values||\n",
       "|---|---|---|\n",
       "|label|7|BRICKFACE: 14.30\\% SKY: 14.30\\% FOLIAGE: 14.30\\% WINDOW: 14.30\\% PATH: 14.30\\% CEMENT: 14.25\\% GRASS: 14.25\\%\n"
      ],
      "text/plain": [
       "<IPython.core.display.Markdown object>"
      ]
     },
     "metadata": {},
     "output_type": "display_data"
    },
    {
     "name": "stdout",
     "output_type": "stream",
     "text": [
      "Dataset 2\n"
     ]
    },
    {
     "data": {
      "text/markdown": [
       "|Column Name|Unique Values||\n",
       "|---|---|---|\n",
       "|label|7|BRICKFACE: 14.30\\% SKY: 14.30\\% FOLIAGE: 14.30\\% WINDOW: 14.30\\% PATH: 14.30\\% CEMENT: 14.25\\% GRASS: 14.25\\%\n"
      ],
      "text/plain": [
       "<IPython.core.display.Markdown object>"
      ]
     },
     "metadata": {},
     "output_type": "display_data"
    },
    {
     "name": "stdout",
     "output_type": "stream",
     "text": [
      "Dataset 3\n"
     ]
    },
    {
     "data": {
      "text/markdown": [
       "|Column Name|Unique Values||\n",
       "|---|---|---|\n",
       "|label|7|BRICKFACE: 14.30\\% SKY: 14.30\\% FOLIAGE: 14.30\\% WINDOW: 14.30\\% PATH: 14.30\\% CEMENT: 14.25\\% GRASS: 14.25\\%\n"
      ],
      "text/plain": [
       "<IPython.core.display.Markdown object>"
      ]
     },
     "metadata": {},
     "output_type": "display_data"
    }
   ],
   "source": [
    "print(\"Dataset 1\")\n",
    "unique_values_table(D1[[\"label\"]], n_label)\n",
    "\n",
    "print(\"Dataset 2\")\n",
    "unique_values_table(D2[[\"label\"]], n_label)\n",
    "\n",
    "print(\"Dataset 3\")\n",
    "unique_values_table(D3[[\"label\"]], n_label)"
   ]
  },
  {
   "cell_type": "code",
   "execution_count": 8,
   "metadata": {},
   "outputs": [
    {
     "data": {
      "text/plain": [
       "<Axes: >"
      ]
     },
     "execution_count": 8,
     "metadata": {},
     "output_type": "execute_result"
    },
    {
     "data": {
      "image/png": "[encoded data removed]",
      "text/plain": [
       "<Figure size 640x480 with 1 Axes>"
      ]
     },
     "metadata": {},
     "output_type": "display_data"
    }
   ],
   "source": [
    "D1[\"label\"].hist()"
   ]
  },
  {
   "attachments": {},
   "cell_type": "markdown",
   "metadata": {},
   "source": [
    "### Load models"
   ]
  },
  {
   "cell_type": "code",
   "execution_count": 66,
   "metadata": {},
   "outputs": [],
   "source": [
    "# Gaussian NB\n",
    "from sklearn.naive_bayes import GaussianNB\n",
    "\n",
    "# Baysean Nearest Neighbor\n",
    "from sklearn.base import BaseEstimator, ClassifierMixin\n",
    "from sklearn.neighbors import NearestNeighbors\n",
    "\n",
    "\n",
    "class BayesianNearestNeighbors(BaseEstimator, ClassifierMixin):\n",
    "    def __init__(self, n_neighbors=1):\n",
    "        self.n_neighbors = n_neighbors\n",
    "\n",
    "    def fit(self, X, y):\n",
    "        self.classes_, y_indices = np.unique(y, return_inverse=True)\n",
    "        self.models_ = []\n",
    "\n",
    "        for i in range(len(self.classes_)):\n",
    "            nn = NearestNeighbors(n_neighbors=self.n_neighbors)\n",
    "            nn.fit(X[y_indices == i])\n",
    "            self.models_.append(nn)\n",
    "\n",
    "        return self\n",
    "\n",
    "    def predict_proba(self, X):\n",
    "        probs = np.zeros((X.shape[0], len(self.classes_)))\n",
    "\n",
    "        for i, model in enumerate(self.models_):\n",
    "            dist, _ = model.kneighbors(X)\n",
    "            probs[:, i] = np.mean(np.exp(-(dist**2) / 2), axis=1)\n",
    "\n",
    "        return probs / probs.sum(axis=1, keepdims=True)\n",
    "\n",
    "    def predict(self, X):\n",
    "        return self.classes_[np.argmax(self.predict_proba(X), axis=1)]\n",
    "\n",
    "\n",
    "# Logistic Regression\n",
    "from sklearn.linear_model import LogisticRegression\n",
    "\n",
    "# Parzen\n",
    "from sklearn.neighbors import KernelDensity\n",
    "from sklearn.base import BaseEstimator, ClassifierMixin\n",
    "\n",
    "\n",
    "class ParzenWindowClassifier(BaseEstimator, ClassifierMixin):\n",
    "    def __init__(self, bandwidth=1.0, kernel=\"gaussian\", metric=\"euclidean\"):\n",
    "        self.bandwidth = bandwidth\n",
    "        self.kernel = kernel\n",
    "        self.metric = metric\n",
    "\n",
    "    def fit(self, X, y):\n",
    "        self.classes_, y_indices = np.unique(y, return_inverse=True)\n",
    "        self.models_ = []\n",
    "\n",
    "        for i in range(len(self.classes_)):\n",
    "            kde = KernelDensity(\n",
    "                bandwidth=self.bandwidth, kernel=self.kernel, metric=self.metric\n",
    "            )\n",
    "            kde.fit(X[y_indices == i])\n",
    "            self.models_.append(kde)\n",
    "\n",
    "        return self\n",
    "\n",
    "    def predict_proba(self, X):\n",
    "        log_probs = np.array([model.score_samples(X) for model in self.models_]).T\n",
    "        probs = np.exp(log_probs)\n",
    "        return probs / probs.sum(axis=1, keepdims=True)\n",
    "\n",
    "    def predict(self, X):\n",
    "        return self.classes_[np.argmax(self.predict_proba(X), axis=1)]"
   ]
  },
  {
   "attachments": {},
   "cell_type": "markdown",
   "metadata": {},
   "source": [
    "### Train models"
   ]
  },
  {
   "cell_type": "code",
   "execution_count": 10,
   "metadata": {},
   "outputs": [],
   "source": [
    "from sklearn.model_selection import StratifiedKFold, cross_validate\n",
    "\n",
    "\n",
    "def stratified_cross_val(model_list, data, n_folds=30, n_splits=10):\n",
    "    model_results = {type(model).__name__: [] for model in model_list}\n",
    "\n",
    "    cv = StratifiedKFold(n_splits=n_splits, shuffle=True)\n",
    "\n",
    "    X, y = data.iloc[:, :-1], data.iloc[:, -1]\n",
    "\n",
    "    for model in model_list:\n",
    "        for _ in range(n_folds):\n",
    "            iter_scores = cross_validate(\n",
    "                model,\n",
    "                X,\n",
    "                y,\n",
    "                cv=cv,\n",
    "                scoring={\n",
    "                    \"f1_score\": \"f1_macro\",\n",
    "                    \"precision_score\": \"precision_macro\",\n",
    "                    \"accuracy_score\": \"accuracy\",\n",
    "                    \"recall_score\": \"recall_macro\",\n",
    "                },\n",
    "                n_jobs=-1,\n",
    "            )\n",
    "            model_results[type(model).__name__].append(iter_scores)\n",
    "\n",
    "    return model_results\n",
    "\n",
    "\n",
    "def model_results_to_df(model_results):\n",
    "    res_final = pd.DataFrame(\n",
    "        columns=[\n",
    "            \"fit_time\",\n",
    "            \"score_time\",\n",
    "            \"test_f1_score\",\n",
    "            \"test_precision_score\",\n",
    "            \"test_accuracy_score\",\n",
    "            \"test_recall_score\",\n",
    "            \"split\",\n",
    "            \"model\",\n",
    "        ]\n",
    "    )\n",
    "\n",
    "    for model in model_results.keys():\n",
    "        for i in range(len(model_results[model])):\n",
    "            _res = pd.DataFrame(\n",
    "                model_results[model][i].values(),\n",
    "                index=model_results[model][i].keys(),\n",
    "            ).T\n",
    "            _res[\"split\"] = i\n",
    "            _res[\"model\"] = model\n",
    "            res_final = pd.concat([res_final, _res])\n",
    "\n",
    "    return res_final"
   ]
  },
  {
   "cell_type": "code",
   "execution_count": 11,
   "metadata": {},
   "outputs": [],
   "source": [
    "model_list = [\n",
    "    GaussianNB(),\n",
    "    ParzenWindowClassifier(kernel=\"gaussian\"),\n",
    "    LogisticRegression(),\n",
    "    BayesianNearestNeighbors(n_neighbors=1),\n",
    "]"
   ]
  },
  {
   "cell_type": "code",
   "execution_count": 12,
   "metadata": {},
   "outputs": [
    {
     "data": {
      "text/html": [
       "<div>\n",
       "<style scoped>\n",
       "    .dataframe tbody tr th:only-of-type {\n",
       "        vertical-align: middle;\n",
       "    }\n",
       "\n",
       "    .dataframe tbody tr th {\n",
       "        vertical-align: top;\n",
       "    }\n",
       "\n",
       "    .dataframe thead th {\n",
       "        text-align: right;\n",
       "    }\n",
       "</style>\n",
       "<table border=\"1\" class=\"dataframe\">\n",
       "  <thead>\n",
       "    <tr style=\"text-align: right;\">\n",
       "      <th></th>\n",
       "      <th>fit_time</th>\n",
       "      <th>score_time</th>\n",
       "      <th>test_f1_score</th>\n",
       "      <th>test_precision_score</th>\n",
       "      <th>test_accuracy_score</th>\n",
       "      <th>test_recall_score</th>\n",
       "      <th>split</th>\n",
       "      <th>model</th>\n",
       "    </tr>\n",
       "  </thead>\n",
       "  <tbody>\n",
       "    <tr>\n",
       "      <th>0</th>\n",
       "      <td>0.006001</td>\n",
       "      <td>0.011003</td>\n",
       "      <td>0.661889</td>\n",
       "      <td>0.704257</td>\n",
       "      <td>0.688312</td>\n",
       "      <td>0.688312</td>\n",
       "      <td>0</td>\n",
       "      <td>GaussianNB</td>\n",
       "    </tr>\n",
       "    <tr>\n",
       "      <th>1</th>\n",
       "      <td>0.005999</td>\n",
       "      <td>0.010001</td>\n",
       "      <td>0.700054</td>\n",
       "      <td>0.735001</td>\n",
       "      <td>0.722944</td>\n",
       "      <td>0.722944</td>\n",
       "      <td>0</td>\n",
       "      <td>GaussianNB</td>\n",
       "    </tr>\n",
       "    <tr>\n",
       "      <th>2</th>\n",
       "      <td>0.005999</td>\n",
       "      <td>0.010000</td>\n",
       "      <td>0.692586</td>\n",
       "      <td>0.734551</td>\n",
       "      <td>0.718615</td>\n",
       "      <td>0.718615</td>\n",
       "      <td>0</td>\n",
       "      <td>GaussianNB</td>\n",
       "    </tr>\n",
       "    <tr>\n",
       "      <th>3</th>\n",
       "      <td>0.007004</td>\n",
       "      <td>0.011999</td>\n",
       "      <td>0.729231</td>\n",
       "      <td>0.751150</td>\n",
       "      <td>0.748918</td>\n",
       "      <td>0.748918</td>\n",
       "      <td>0</td>\n",
       "      <td>GaussianNB</td>\n",
       "    </tr>\n",
       "    <tr>\n",
       "      <th>4</th>\n",
       "      <td>0.006999</td>\n",
       "      <td>0.011000</td>\n",
       "      <td>0.628484</td>\n",
       "      <td>0.676672</td>\n",
       "      <td>0.658009</td>\n",
       "      <td>0.658009</td>\n",
       "      <td>0</td>\n",
       "      <td>GaussianNB</td>\n",
       "    </tr>\n",
       "    <tr>\n",
       "      <th>...</th>\n",
       "      <td>...</td>\n",
       "      <td>...</td>\n",
       "      <td>...</td>\n",
       "      <td>...</td>\n",
       "      <td>...</td>\n",
       "      <td>...</td>\n",
       "      <td>...</td>\n",
       "      <td>...</td>\n",
       "    </tr>\n",
       "    <tr>\n",
       "      <th>5</th>\n",
       "      <td>0.016997</td>\n",
       "      <td>0.022997</td>\n",
       "      <td>0.930174</td>\n",
       "      <td>0.933006</td>\n",
       "      <td>0.930736</td>\n",
       "      <td>0.930736</td>\n",
       "      <td>29</td>\n",
       "      <td>BayesianNearestNeighbors</td>\n",
       "    </tr>\n",
       "    <tr>\n",
       "      <th>6</th>\n",
       "      <td>0.016999</td>\n",
       "      <td>0.024002</td>\n",
       "      <td>0.898193</td>\n",
       "      <td>0.904268</td>\n",
       "      <td>0.900433</td>\n",
       "      <td>0.900433</td>\n",
       "      <td>29</td>\n",
       "      <td>BayesianNearestNeighbors</td>\n",
       "    </tr>\n",
       "    <tr>\n",
       "      <th>7</th>\n",
       "      <td>0.014998</td>\n",
       "      <td>0.023000</td>\n",
       "      <td>0.892134</td>\n",
       "      <td>0.899117</td>\n",
       "      <td>0.896104</td>\n",
       "      <td>0.896104</td>\n",
       "      <td>29</td>\n",
       "      <td>BayesianNearestNeighbors</td>\n",
       "    </tr>\n",
       "    <tr>\n",
       "      <th>8</th>\n",
       "      <td>0.016001</td>\n",
       "      <td>0.022996</td>\n",
       "      <td>0.894640</td>\n",
       "      <td>0.898161</td>\n",
       "      <td>0.895652</td>\n",
       "      <td>0.896104</td>\n",
       "      <td>29</td>\n",
       "      <td>BayesianNearestNeighbors</td>\n",
       "    </tr>\n",
       "    <tr>\n",
       "      <th>9</th>\n",
       "      <td>0.015995</td>\n",
       "      <td>0.023999</td>\n",
       "      <td>0.903167</td>\n",
       "      <td>0.914213</td>\n",
       "      <td>0.904348</td>\n",
       "      <td>0.903409</td>\n",
       "      <td>29</td>\n",
       "      <td>BayesianNearestNeighbors</td>\n",
       "    </tr>\n",
       "  </tbody>\n",
       "</table>\n",
       "<p>1200 rows × 8 columns</p>\n",
       "</div>"
      ],
      "text/plain": [
       "    fit_time  score_time  test_f1_score  test_precision_score   \n",
       "0   0.006001    0.011003       0.661889              0.704257  \\\n",
       "1   0.005999    0.010001       0.700054              0.735001   \n",
       "2   0.005999    0.010000       0.692586              0.734551   \n",
       "3   0.007004    0.011999       0.729231              0.751150   \n",
       "4   0.006999    0.011000       0.628484              0.676672   \n",
       "..       ...         ...            ...                   ...   \n",
       "5   0.016997    0.022997       0.930174              0.933006   \n",
       "6   0.016999    0.024002       0.898193              0.904268   \n",
       "7   0.014998    0.023000       0.892134              0.899117   \n",
       "8   0.016001    0.022996       0.894640              0.898161   \n",
       "9   0.015995    0.023999       0.903167              0.914213   \n",
       "\n",
       "    test_accuracy_score  test_recall_score split                     model  \n",
       "0              0.688312           0.688312     0                GaussianNB  \n",
       "1              0.722944           0.722944     0                GaussianNB  \n",
       "2              0.718615           0.718615     0                GaussianNB  \n",
       "3              0.748918           0.748918     0                GaussianNB  \n",
       "4              0.658009           0.658009     0                GaussianNB  \n",
       "..                  ...                ...   ...                       ...  \n",
       "5              0.930736           0.930736    29  BayesianNearestNeighbors  \n",
       "6              0.900433           0.900433    29  BayesianNearestNeighbors  \n",
       "7              0.896104           0.896104    29  BayesianNearestNeighbors  \n",
       "8              0.895652           0.896104    29  BayesianNearestNeighbors  \n",
       "9              0.904348           0.903409    29  BayesianNearestNeighbors  \n",
       "\n",
       "[1200 rows x 8 columns]"
      ]
     },
     "execution_count": 12,
     "metadata": {},
     "output_type": "execute_result"
    }
   ],
   "source": [
    "results_df = model_results_to_df(stratified_cross_val(model_list, D3))\n",
    "results_df"
   ]
  },
  {
   "cell_type": "code",
   "execution_count": 13,
   "metadata": {},
   "outputs": [
    {
     "data": {
      "text/html": [
       "<div>\n",
       "<style scoped>\n",
       "    .dataframe tbody tr th:only-of-type {\n",
       "        vertical-align: middle;\n",
       "    }\n",
       "\n",
       "    .dataframe tbody tr th {\n",
       "        vertical-align: top;\n",
       "    }\n",
       "\n",
       "    .dataframe thead th {\n",
       "        text-align: right;\n",
       "    }\n",
       "</style>\n",
       "<table border=\"1\" class=\"dataframe\">\n",
       "  <thead>\n",
       "    <tr style=\"text-align: right;\">\n",
       "      <th></th>\n",
       "      <th>fit_time</th>\n",
       "      <th>score_time</th>\n",
       "      <th>test_f1_score</th>\n",
       "      <th>test_precision_score</th>\n",
       "      <th>test_accuracy_score</th>\n",
       "      <th>test_recall_score</th>\n",
       "      <th>split</th>\n",
       "    </tr>\n",
       "    <tr>\n",
       "      <th>model</th>\n",
       "      <th></th>\n",
       "      <th></th>\n",
       "      <th></th>\n",
       "      <th></th>\n",
       "      <th></th>\n",
       "      <th></th>\n",
       "      <th></th>\n",
       "    </tr>\n",
       "  </thead>\n",
       "  <tbody>\n",
       "    <tr>\n",
       "      <th>BayesianNearestNeighbors</th>\n",
       "      <td>0.014059</td>\n",
       "      <td>0.023903</td>\n",
       "      <td>0.906352</td>\n",
       "      <td>0.910846</td>\n",
       "      <td>0.907698</td>\n",
       "      <td>0.907687</td>\n",
       "      <td>14.5</td>\n",
       "    </tr>\n",
       "    <tr>\n",
       "      <th>GaussianNB</th>\n",
       "      <td>0.004546</td>\n",
       "      <td>0.007460</td>\n",
       "      <td>0.672247</td>\n",
       "      <td>0.716814</td>\n",
       "      <td>0.700350</td>\n",
       "      <td>0.700322</td>\n",
       "      <td>14.5</td>\n",
       "    </tr>\n",
       "    <tr>\n",
       "      <th>LogisticRegression</th>\n",
       "      <td>0.065307</td>\n",
       "      <td>0.007939</td>\n",
       "      <td>0.861157</td>\n",
       "      <td>0.865958</td>\n",
       "      <td>0.862782</td>\n",
       "      <td>0.862716</td>\n",
       "      <td>14.5</td>\n",
       "    </tr>\n",
       "    <tr>\n",
       "      <th>ParzenWindowClassifier</th>\n",
       "      <td>0.012467</td>\n",
       "      <td>0.042096</td>\n",
       "      <td>0.918013</td>\n",
       "      <td>0.920514</td>\n",
       "      <td>0.918851</td>\n",
       "      <td>0.918831</td>\n",
       "      <td>14.5</td>\n",
       "    </tr>\n",
       "  </tbody>\n",
       "</table>\n",
       "</div>"
      ],
      "text/plain": [
       "                          fit_time  score_time  test_f1_score   \n",
       "model                                                           \n",
       "BayesianNearestNeighbors  0.014059    0.023903       0.906352  \\\n",
       "GaussianNB                0.004546    0.007460       0.672247   \n",
       "LogisticRegression        0.065307    0.007939       0.861157   \n",
       "ParzenWindowClassifier    0.012467    0.042096       0.918013   \n",
       "\n",
       "                          test_precision_score  test_accuracy_score   \n",
       "model                                                                 \n",
       "BayesianNearestNeighbors              0.910846             0.907698  \\\n",
       "GaussianNB                            0.716814             0.700350   \n",
       "LogisticRegression                    0.865958             0.862782   \n",
       "ParzenWindowClassifier                0.920514             0.918851   \n",
       "\n",
       "                          test_recall_score split  \n",
       "model                                              \n",
       "BayesianNearestNeighbors           0.907687  14.5  \n",
       "GaussianNB                         0.700322  14.5  \n",
       "LogisticRegression                 0.862716  14.5  \n",
       "ParzenWindowClassifier             0.918831  14.5  "
      ]
     },
     "execution_count": 13,
     "metadata": {},
     "output_type": "execute_result"
    }
   ],
   "source": [
    "results_df.groupby(\"model\").mean()"
   ]
  },
  {
   "attachments": {},
   "cell_type": "markdown",
   "metadata": {},
   "source": [
    "### Statistical Tests"
   ]
  },
  {
   "cell_type": "code",
   "execution_count": 15,
   "metadata": {},
   "outputs": [
    {
     "name": "stdout",
     "output_type": "stream",
     "text": [
      "test_f1_score: Friedman Chi Square = 78.160, p-value = 0.000\n",
      "Significant difference between models\n",
      "\n",
      "test_precision_score: Friedman Chi Square = 78.160, p-value = 0.000\n",
      "Significant difference between models\n",
      "\n",
      "test_accuracy_score: Friedman Chi Square = 80.071, p-value = 0.000\n",
      "Significant difference between models\n",
      "\n",
      "test_recall_score: Friedman Chi Square = 79.621, p-value = 0.000\n",
      "Significant difference between models\n",
      "\n",
      "\n",
      "Nemenyi PostHoc Test for test_f1_score:\n",
      "         0         1        2         3\n",
      "0  1.00000  0.001000  0.00751  0.001000\n",
      "1  0.00100  1.000000  0.00100  0.836106\n",
      "2  0.00751  0.001000  1.00000  0.001000\n",
      "3  0.00100  0.836106  0.00100  1.000000\n",
      "\n",
      "Nemenyi PostHoc Test for test_precision_score:\n",
      "         0         1        2         3\n",
      "0  1.00000  0.001000  0.00751  0.001000\n",
      "1  0.00100  1.000000  0.00100  0.836106\n",
      "2  0.00751  0.001000  1.00000  0.001000\n",
      "3  0.00100  0.836106  0.00100  1.000000\n",
      "\n",
      "Nemenyi PostHoc Test for test_accuracy_score:\n",
      "          0         1         2         3\n",
      "0  1.000000  0.001000  0.008869  0.001000\n",
      "1  0.001000  1.000000  0.001000  0.751912\n",
      "2  0.008869  0.001000  1.000000  0.001000\n",
      "3  0.001000  0.751912  0.001000  1.000000\n",
      "\n",
      "Nemenyi PostHoc Test for test_recall_score:\n",
      "          0         1         2         3\n",
      "0  1.000000  0.001000  0.008869  0.001000\n",
      "1  0.001000  1.000000  0.001000  0.808041\n",
      "2  0.008869  0.001000  1.000000  0.001000\n",
      "3  0.001000  0.808041  0.001000  1.000000\n"
     ]
    }
   ],
   "source": [
    "import numpy as np\n",
    "from scipy.stats import friedmanchisquare\n",
    "from scikit_posthocs import posthoc_nemenyi_friedman\n",
    "\n",
    "\n",
    "def perform_friedman_nemenyi_tests(df):\n",
    "    metrics = [\n",
    "        \"test_f1_score\",\n",
    "        \"test_precision_score\",\n",
    "        \"test_accuracy_score\",\n",
    "        \"test_recall_score\",\n",
    "    ]\n",
    "    models = df[\"model\"].unique()\n",
    "    folds = df[\"split\"].unique()\n",
    "\n",
    "    results = {}\n",
    "    for metric in metrics:\n",
    "        results[metric] = np.zeros((len(models), len(folds)))\n",
    "        for i, model in enumerate(models):\n",
    "            for j, fold in enumerate(folds):\n",
    "                results[metric][i, j] = df.loc[\n",
    "                    (df[\"model\"] == model) & (df[\"split\"] == fold)\n",
    "                ][metric].values[0]\n",
    "\n",
    "    # Friedman test\n",
    "    for metric in metrics:\n",
    "        stat, p_value = friedmanchisquare(*results[metric])\n",
    "        print(f\"{metric}: Friedman Chi Square = {stat:.3f}, p-value = {p_value:.3f}\")\n",
    "        if p_value < 0.05:\n",
    "            print(\"Significant difference between models\\n\")\n",
    "        else:\n",
    "            print(\"No significant difference between models\")\n",
    "\n",
    "    # Nemenyi test\n",
    "    for metric in metrics:\n",
    "        posthoc = posthoc_nemenyi_friedman(results[metric].T)\n",
    "        print(f\"\\nNemenyi PostHoc Test for {metric}:\")\n",
    "        print(posthoc)\n",
    "\n",
    "\n",
    "perform_friedman_nemenyi_tests(results_df)"
   ]
  },
  {
   "attachments": {},
   "cell_type": "markdown",
   "metadata": {},
   "source": [
    "### Model tuning"
   ]
  },
  {
   "cell_type": "code",
   "execution_count": 76,
   "metadata": {},
   "outputs": [],
   "source": [
    "import optuna\n",
    "from sklearn.metrics import f1_score\n",
    "from sklearn.model_selection import train_test_split\n",
    "\n",
    "import warnings\n",
    "\n",
    "warnings.filterwarnings(\"ignore\")\n",
    "\n",
    "optuna.logging.set_verbosity(optuna.logging.CRITICAL)\n",
    "\n",
    "import os\n",
    "\n",
    "# Avoid use n_jobs=-1 in each call of sklearn model\n",
    "os.environ[\"JOBLIB_MULTIPROCESSING\"] = \"true\"\n",
    "\n",
    "\n",
    "def objective(trial, model_name, data):\n",
    "    X_train, X_test, y_train, y_test = data\n",
    "\n",
    "    if model_name == \"GaussianNB\":\n",
    "        var_smoothing = trial.suggest_float(\"var_smoothing\", 1e-10, 1e-1)\n",
    "        model = GaussianNB(var_smoothing=var_smoothing)\n",
    "\n",
    "    elif model_name == \"ParzenWindowClassifier\":\n",
    "        bandwidth = trial.suggest_float(\"bandwidth\", 1e-10, 1e-1)\n",
    "        kernel = trial.suggest_categorical(\n",
    "            \"kernel\",\n",
    "            [\"gaussian\", \"tophat\", \"epanechnikov\", \"exponential\", \"linear\", \"cosine\"],\n",
    "        )\n",
    "        model = ParzenWindowClassifier(bandwidth=bandwidth, kernel=kernel)\n",
    "\n",
    "    elif model_name == \"LogisticRegression\":\n",
    "        # With fixed lbfgs solver, only l2 and none are available for penalty\n",
    "        penalty = trial.suggest_categorical(\"penalty\", [\"l2\", \"none\"])\n",
    "        C = trial.suggest_float(\"C\", 1e-10, 1e-1)\n",
    "        model = LogisticRegression(C=C, penalty=penalty)\n",
    "\n",
    "    elif model_name == \"BayesianNearestNeighbors\":\n",
    "        n_neighbors = trial.suggest_int(\"n_neighbors\", 1, 15)\n",
    "        model = BayesianNearestNeighbors(n_neighbors=n_neighbors)\n",
    "\n",
    "    model.fit(X_train, y_train)\n",
    "    y_pred = model.predict(X_test)\n",
    "\n",
    "    return f1_score(y_test, y_pred, average=\"macro\")"
   ]
  },
  {
   "cell_type": "code",
   "execution_count": 93,
   "metadata": {},
   "outputs": [
    {
     "name": "stdout",
     "output_type": "stream",
     "text": [
      "to dataset 1 with model GaussianNB the best parameter is:\n",
      "{'var_smoothing': 0.016506841085531593}\n",
      "F1-score:0.270 \n",
      "\n",
      "to dataset 1 with model ParzenWindowClassifier the best parameter is:\n",
      "{'bandwidth': 0.03135083587420679, 'kernel': 'exponential'}\n",
      "F1-score:0.452 \n",
      "\n",
      "to dataset 1 with model LogisticRegression the best parameter is:\n",
      "{'penalty': 'none', 'C': 0.06079001674193459}\n",
      "F1-score:0.276 \n",
      "\n",
      "to dataset 1 with model BayesianNearestNeighbors the best parameter is:\n",
      "{'n_neighbors': 15}\n",
      "F1-score:0.475 \n",
      "\n",
      "to dataset 2 with model GaussianNB the best parameter is:\n",
      "{'var_smoothing': 0.004132515107950512}\n",
      "F1-score:0.680 \n",
      "\n",
      "to dataset 2 with model ParzenWindowClassifier the best parameter is:\n",
      "{'bandwidth': 0.036604426401269055, 'kernel': 'exponential'}\n",
      "F1-score:0.838 \n",
      "\n",
      "to dataset 2 with model LogisticRegression the best parameter is:\n",
      "{'penalty': 'l2', 'C': 0.004660498472486173}\n",
      "F1-score:0.778 \n",
      "\n",
      "to dataset 2 with model BayesianNearestNeighbors the best parameter is:\n",
      "{'n_neighbors': 15}\n",
      "F1-score:0.851 \n",
      "\n",
      "to dataset 3 with model GaussianNB the best parameter is:\n",
      "{'var_smoothing': 0.003786751162717684}\n",
      "F1-score:0.685 \n",
      "\n",
      "to dataset 3 with model ParzenWindowClassifier the best parameter is:\n",
      "{'bandwidth': 0.061032060981311, 'kernel': 'exponential'}\n",
      "F1-score:0.860 \n",
      "\n",
      "to dataset 3 with model LogisticRegression the best parameter is:\n",
      "{'penalty': 'l2', 'C': 0.04859456679569203}\n",
      "F1-score:0.867 \n",
      "\n",
      "to dataset 3 with model BayesianNearestNeighbors the best parameter is:\n",
      "{'n_neighbors': 9}\n",
      "F1-score:0.852 \n",
      "\n"
     ]
    }
   ],
   "source": [
    "datasets = [D1, D2, D3]\n",
    "iteration = 1\n",
    "\n",
    "models = [type(model).__name__ for model in model_list]\n",
    "N_TRIALS = 10\n",
    "\n",
    "results = {model: {i: \"\" for i in range(len(datasets))} for model in models}\n",
    "\n",
    "for dataset in datasets:\n",
    "    valid_ds = dataset.sample(frac=0.2, random_state=42)\n",
    "    valid_split = train_test_split(\n",
    "        valid_ds.iloc[:, :-1], valid_ds.iloc[:, -1], test_size=0.2, random_state=42\n",
    "    )\n",
    "\n",
    "    for model_name in models:\n",
    "        search = lambda trial: objective(trial, model_name=model_name, data=valid_split)\n",
    "        study = optuna.create_study(direction=\"maximize\")\n",
    "        study.optimize(search, n_trials=N_TRIALS)\n",
    "\n",
    "        print(\n",
    "            \"to dataset %d with model %s the best parameter is:\"\n",
    "            % (iteration, model_name)\n",
    "        )\n",
    "        print(study.best_params)\n",
    "        print(\"F1-score:%.3f\" % study.best_value, \"\\n\")\n",
    "\n",
    "        results[model_name][iteration] = (study.best_params, study.best_value)\n",
    "\n",
    "    iteration += 1"
   ]
  },
  {
   "cell_type": "code",
   "execution_count": 94,
   "metadata": {},
   "outputs": [
    {
     "data": {
      "text/plain": [
       "{'GaussianNB': {0: '',\n",
       "  1: ({'var_smoothing': 0.016506841085531593}, 0.26961988306526125),\n",
       "  2: ({'var_smoothing': 0.004132515107950512}, 0.6804824561403509),\n",
       "  3: ({'var_smoothing': 0.003786751162717684}, 0.6853165594510127)},\n",
       " 'ParzenWindowClassifier': {0: '',\n",
       "  1: ({'bandwidth': 0.03135083587420679, 'kernel': 'exponential'},\n",
       "   0.45154540799702086),\n",
       "  2: ({'bandwidth': 0.036604426401269055, 'kernel': 'exponential'},\n",
       "   0.838085209513781),\n",
       "  3: ({'bandwidth': 0.061032060981311, 'kernel': 'exponential'},\n",
       "   0.8601551497792099)},\n",
       " 'LogisticRegression': {0: '',\n",
       "  1: ({'penalty': 'none', 'C': 0.06079001674193459}, 0.2755496848782913),\n",
       "  2: ({'penalty': 'l2', 'C': 0.004660498472486173}, 0.7780950760871149),\n",
       "  3: ({'penalty': 'l2', 'C': 0.04859456679569203}, 0.8671802324168533)},\n",
       " 'BayesianNearestNeighbors': {0: '',\n",
       "  1: ({'n_neighbors': 15}, 0.47513027513027506),\n",
       "  2: ({'n_neighbors': 15}, 0.8506516906516906),\n",
       "  3: ({'n_neighbors': 9}, 0.8522412208126493)}}"
      ]
     },
     "execution_count": 94,
     "metadata": {},
     "output_type": "execute_result"
    }
   ],
   "source": [
    "results"
   ]
  },
  {
   "cell_type": "code",
   "execution_count": null,
   "metadata": {},
   "outputs": [],
   "source": []
  }
 ],
 "metadata": {
  "kernelspec": {
   "display_name": "venv",
   "language": "python",
   "name": "python3"
  },
  "language_info": {
   "codemirror_mode": {
    "name": "ipython",
    "version": 3
   },
   "file_extension": ".py",
   "mimetype": "text/x-python",
   "name": "python",
   "nbconvert_exporter": "python",
   "pygments_lexer": "ipython3",
   "version": "3.10.10"
  },
  "orig_nbformat": 4
 },
 "nbformat": 4,
 "nbformat_minor": 2
}
